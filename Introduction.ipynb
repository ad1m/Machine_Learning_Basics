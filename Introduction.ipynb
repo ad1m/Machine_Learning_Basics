{
 "cells": [
  {
   "cell_type": "markdown",
   "metadata": {},
   "source": [
    "<center><h1>Machine Learning</h1>\n",
    "<h4>By: Adam Lieberman</h4>\n",
    "</center>"
   ]
  },
  {
   "cell_type": "markdown",
   "metadata": {},
   "source": [
    "<h4>Introduction:</h4>\n",
    "<p>This guide serves as a practicial guide to machine learning. It is meant to be concise, relaying some mathematical and theoretical ideals, as well as practical in nature. It is meant to get one up and running with machine learning and and cover the process of building a wide variety of machine learning algorithms.</p>"
   ]
  },
  {
   "cell_type": "markdown",
   "metadata": {},
   "source": [
    "<h4>Definition:</h4>"
   ]
  },
  {
   "cell_type": "markdown",
   "metadata": {},
   "source": [
    "<p>There are many different definitions of Machine Learning:</p>\n",
    "<ul>\n",
    "<li>Arthur Samuel (1956) - <i>A field of computer science that gives computers the ability to learn without being explicitly programmed.</i>\n",
    "</li>\n",
    "<li>Tom Mitchell (1998) - <i>A computer program is said to learn from experience E with respect to some class of tasks T and performance measure P id its performance at tasks in T, as measured by P, improves with experience E.</i></li>\n",
    "</ul>\n",
    "\n",
    "<p>There is not one correct definition for Machine Learning, but overall the idea of machine learning is that there are algorithms which can tell you intersting facets of your data without you specifically writing code by setting specific rules for the desired information. Ian Goodfellow provides a concise description: <i>a machine learning algorithm is an algorithm that is able to learn form data.</i> </p>\n"
   ]
  },
  {
   "cell_type": "markdown",
   "metadata": {},
   "source": [
    "<h4>Machine Learning in the AI Spectrum:</h4>\n",
    "<p>Machine Learning is a subset of artificial intelligence where we define artificial intelligence as the design of an intelligent agent that percieves its environment and makes decisions to maximize chances of achieving its goal. Here, machine learning is a subset of AI. The graphic below depicts the relationship between artificial intellignence, machine learning, and deep learning:</p>\n",
    "<center><img src=\"images/AI_Map.png\" style=\"height:300px; width:300px\"></center>\n",
    "<p>Machine Learning is a subset of Artificial Intelligence so all machine learning problems are artificial intelligence problems; however, not all artificial intelligence problems are machine learning problems. Artificial intelligence is not only concerned with algorithms learning from experience to data, but also having machines exhibit intelligence through rules and logic. This could, for instance, be finding an optimal path on a graph. Some alternate subfields of AI are as follows:</p>\n",
    "<center><img src=\"images/ai_subfields_map.png\" style=\"height:300px; width:500px\"></center>"
   ]
  },
  {
   "cell_type": "markdown",
   "metadata": {},
   "source": [
    "<h4>Structured vs Unstructured Data:</h4>\n",
    "<p>There are two types of data that can be used in machine learning models:</p> \n",
    "<ul>\n",
    "<li><b>Structured Data:</b> information that can be ordered easily and processed by data mining tools. This is data that could be found in a database. Here, the information is organized and is easy to process. An example of structured data is as follows:</li>\n",
    "<table>\n",
    "<td>Ticker</td>\n",
    "<td>Date</td>\n",
    "<td>Price</td>\n",
    "<tr>\n",
    "<td>AAPL</td>\n",
    "<td>09/01/2017</td>\n",
    "<td>225.43</td>\n",
    "</tr>\n",
    "<tr>\n",
    "<td>AAPL</td>\n",
    "<td>09/02/2017</td>\n",
    "<td>222.43</td>\n",
    "</tr>\n",
    "<tr>\n",
    "<td>AAPL</td>\n",
    "<td>09/03/2017</td>\n",
    "<td>228.43</td>\n",
    "</tr>\n",
    "</table>\n",
    "<br>\n",
    "<li><b>Unstructured Data:</b> data that is found in the \"wild\" which consists of free-form text, images, audio, and video. Here, the data has less structure, is not in a datbase, and does not adhere to a formal data model. An example of unstructured data is as follows:</li>\n",
    "<table>\n",
    "<tr>\n",
    "<td>today I wAs reading a book, it was good.</td>\n",
    "</tr>\n",
    "<tr>\n",
    "<td>Tomorrow is going 2 be really nice.</td>\n",
    "</tr>\n",
    "<tr>\n",
    "<td>I am playing basketball at 6:30 pm tomorrow.</td>\n",
    "</tr>\n",
    "<tr>\n",
    "<td>It is a great day for a picnic.</td>\n",
    "</tr>\n",
    "</table>\n",
    "</ul>"
   ]
  },
  {
   "cell_type": "markdown",
   "metadata": {},
   "source": [
    "<h4>Feature Vectors:</h4>\n",
    "<p>In machine learning, an algorithm has to take in a feature vector to recieve an output. This is an $n$ dimensional vector of numerical features that represent some object. For example, say we have the following dataset of home prices and square feet: </p>\n",
    "<table>\n",
    "<td>Price</td>\n",
    "<td>Sq. Feet</td>\n",
    "<td>Number of bedrooms</td>\n",
    "<tr>\n",
    "<td>220500.22</td>\n",
    "<td>1245</td>\n",
    "<td>3</td>\n",
    "</tr>\n",
    "<tr>\n",
    "<td>125000.21</td>\n",
    "<td>845</td>\n",
    "<td>1</td>\n",
    "</tr>\n",
    "<tr>\n",
    "<td>524589.55</td>\n",
    "<td>3580</td>\n",
    "<td>5</td>\n",
    "</tr>\n",
    "</table>\n",
    "<p>If we wish to be able to predict the price of a home given its square feet and number of bedrooms than we can have a two dimensional feature vector consist of the square feet and number of bedrooms. Our feature vectors for the above dataset would be: [1245, 3], [845,1], [3580,5]. We call the features that go into the model inputs and the result from inputting the features into the model the targets. The targets for the above example would be [220500.22],[12500.21],[524589.55]. Where each output corresponds to a target.</p>"
   ]
  },
  {
   "cell_type": "markdown",
   "metadata": {},
   "source": [
    "<h4>Function Mappings:</h4>\n",
    "<p>A function $f$ is a relation between a set of inputs and a set of outputs. In the housing price example above, each input had a specific output. We could create a function that maps the inputs to their outputs. This allows us to pass in a new unseen output and get a predicted output. We can visualize the process as follows:</p>\n",
    "<center><img src='images/function_process.png'></center>\n",
    "<p>An example of a function is $f(x) = x^2$. Here, we can let $9$ be an input and our output is $9^2 = 81$. Our machine learning algorithm could produce a function $f$ where we input an image and it maps the image to either cat or dog. The important thing to understand about function mappings is that a function $f$ takes an input and assigns it an output.</p>"
   ]
  },
  {
   "cell_type": "markdown",
   "metadata": {},
   "source": [
    "<h4>Machine Learning Tasks:</h4>\n",
    "<p>There are many different types of tasks that machine learning can solve:</p>\n",
    "<ol>\n",
    "<li><b>Classification:</b> Classification deals with classifying an input into one of $k$ categories. We might, for instance, want to take a picture and decide whether it is a bird, cat, or dog. When we have more than two classes we have a \"multiclass\" classification problem. When we are looking at predicting two classes we have a \"binary\" classification problem. Mathematically speaking, the learning algorithm produces a function $f: \\mathbb{R}^n \\rightarrow \\{1,2,...,k \\}$. This notation means that we have an $n$ dimensional vector with values as real numbers that gets mapped to a discrete value in the set $\\{1,2,...,k \\}$ where $\\{1,2,...,k\\}$ are the classes of the classification problem. This function takes in a vector $x$ and outputs a value $y$ such that $f(x)=y$. An alternate variation of classification is where the function $f$ outputs a probability distribution over classes. For example, we would return a vector $v$ such as [.2,.7,.1] which  means the probability that the input $x$ is class 1 is .2, the probability $x$ is class 2 is .7, and the probability $x$ is class 3 is .1. We can take the maximum value of this probability distribution over the classes to see that class 2 is the most probable classification for the input $x$. Classification produces discrete values. Discrete data can only take particular values. There may potentially be an infinite number of those values, but each is distinct and there's no grey area in between. Discrete data can be numeric like numbers of oranges, but it can also be categorical like red or blue or male or female.</li>\n",
    "<li><b>Classification with missing inputs:</b> With regular classification above, each input vector $x$ has to have the same dimension. This means that if we have a sample $x_1$ = [5,13,4,5] then $x_2$ must have 4 values like $x_1$, making it a vector of dimension 4. If we do not have a gurantee that every measurement in the input vector will be provided then this makes classification more difficult. For a solution to this problem, we need the learning algorithm to define a single function mapping from the input vector to a categorical output. The learning algorithm learns a set of functions where each function corresponds to classifying the input $x$ with a different subset of its missing input values. If we have an $n$ dimensional feature vector than there will be $2^n$ different classification functions needed for each possible set of missing inputs.</li>\n",
    "<li><b>Regression:</b> Regression tasks involve predicting a continuous value given an input $x$. Continuous data are not restricted to defined separate values, but can occupy any value over a continuous range. Between any two continuous data values there may be an infinite number of others. Continuous data are always essentially numeric. For instance, predicting the price of a stock is a regression problem since the value of the stock we predict could be any real number between 0 and infinity. Mathematically speaking, we take an input $x$ and pass it through a function $f:\\mathbb{R}^n \\rightarrow \\mathbb{R}$ which means we take our $n$ dimensional input vector, pass it through the function $f$ and output a single real number.</li>\n",
    "<li><b>Transcription: </b> Transcription involves the machine learning algorithm observing some unstructured data and transcribing it into a discrete textual form. For example, the algorithm might see an image of a license plate and transcribe it into text. Alternatively, the algorithm could be given a song and transcribe the audio into textual lyrics.</li>\n",
    "<li><b>Machine Translation: </b>machine translations takes a sequence of symbols in one language and converts it into a sequence of symbols in another language. For example, converting a sentence from french to english. Google translate is an example of machine translation. </li>\n",
    "<li><b>Anomaly Detection: </b>anomaly detection deals with the indentification of items, events, or observations which do not conform to an expected pattern or other items in a dataset. Here we search for unusual or atypical items in the dataset. For instance, looking for fradulent checks or identifying fraudlent credit card transactions are examples of anomaly detection.</li>\n",
    "</ol>"
   ]
  },
  {
   "cell_type": "markdown",
   "metadata": {},
   "source": [
    "<h4>Types of Machine Learning:</h4> "
   ]
  },
  {
   "cell_type": "markdown",
   "metadata": {},
   "source": [
    "<h4>Feature Vectors:</h4>"
   ]
  },
  {
   "cell_type": "markdown",
   "metadata": {},
   "source": [
    "<h4>Math:</h4>\n",
    "<p>Mathematics is important in understanding how the algorithms work and why they work. In this section we cover some important principles from linear algebra, statistics, and information theory.</p>"
   ]
  },
  {
   "cell_type": "markdown",
   "metadata": {},
   "source": [
    "<h4>Programming:</h4>\n",
    "<p>The following is a list of machine learning libraries for their respective programming languages:</p>\n",
    "<br>\n",
    "<b>Python</b>\n",
    "<ul>\n",
    "<li>scikit-learn</li>\n",
    "<li>tebsorflow</li>\n",
    "<li>theano</li>\n",
    "<li>keras</li>\n",
    "<li>caffee</li>\n",
    "<li>pybrain</li>\n",
    "</ul>\n",
    "<br>\n",
    "<b>R</b>\n",
    "<ul>\n",
    "<li>caret</li>\n",
    "<li>RODBC</li>\n",
    "<li>Gmodels</li>\n",
    "<li>e1071</li>\n",
    "<li>glmnet</li>\n",
    "</ul>\n",
    "<br>\n",
    "<b>Java</b>\n",
    "<ul>\n",
    "<li>Weka</li>\n",
    "<li>MOA</li>\n",
    "<li>Deeplearning4j</li>\n",
    "<li>Mallet</li>\n",
    "<li>Elki</li>\n",
    "</ul>\n",
    "<b>JavaScript</b>\n",
    "<ul>\n",
    "<li>brain.js</li>\n",
    "<li>Synaptic</li>\n",
    "<li>Mind</li>\n",
    "</ul>\n",
    "<b>C++</b>\n",
    "<ul>\n",
    "<li>mlpack</li>\n",
    "<li>Tensorflow</li>\n",
    "<li>Dlib</li>\n",
    "<li>shogun</li>\n",
    "</ul>\n",
    "<b>Julia</b>\n",
    "<ul>\n",
    "<li>MLBase.jl</li>\n",
    "<li>ScikitLearn.jl</li>\n",
    "<li>MachineLearning.jl</li>\n",
    "<li>Mocha.jl</li>\n",
    "</ul>\n",
    "<p>Python is a great high-level language for rapid development of machine learning algorithms. It is used by many machine learning engineers, researchers, and developers in a wide variety of top companies and has many modules to assist in the machine learning process. All code in this guide will be written in python.</p>"
   ]
  },
  {
   "cell_type": "code",
   "execution_count": null,
   "metadata": {
    "collapsed": true
   },
   "outputs": [],
   "source": []
  }
 ],
 "metadata": {
  "anaconda-cloud": {},
  "kernelspec": {
   "display_name": "Python [conda env:cse6240hw1]",
   "language": "python",
   "name": "conda-env-cse6240hw1-py"
  },
  "language_info": {
   "codemirror_mode": {
    "name": "ipython",
    "version": 3
   },
   "file_extension": ".py",
   "mimetype": "text/x-python",
   "name": "python",
   "nbconvert_exporter": "python",
   "pygments_lexer": "ipython3",
   "version": "3.5.2"
  }
 },
 "nbformat": 4,
 "nbformat_minor": 1
}
