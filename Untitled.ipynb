{
 "cells": [
  {
   "cell_type": "markdown",
   "metadata": {},
   "source": [
    "<center><h1>OCR with Deep Learning:</h1></center>"
   ]
  },
  {
   "cell_type": "code",
   "execution_count": 28,
   "metadata": {
    "collapsed": false
   },
   "outputs": [],
   "source": [
    "#Imports \n",
    "from keras.layers.core import Dense, Activation\n",
    "from keras.models import Sequential\n",
    "from keras.optimizers import Adam\n",
    "from sklearn import datasets, preprocessing\n",
    "from sklearn.model_selection import train_test_split\n",
    "from sklearn.model_selection import train_test_split\n",
    "import matplotlib.pyplot as plt\n",
    "import numpy as np"
   ]
  },
  {
   "cell_type": "code",
   "execution_count": 10,
   "metadata": {
    "collapsed": false
   },
   "outputs": [],
   "source": [
    "#Fetch Handwritten Digits Data\n",
    "data = datasets.fetch_mldata('MNIST original')\n",
    "\n",
    "#Normalize Feature Data\n",
    "X = data.data.astype(float)/255.\n",
    "\n",
    "#Binarize the y data \n",
    "y = preprocessing.LabelBinarizer().fit_transform(data.target)\n",
    "\n",
    "#Create the train/test split\n",
    "X_train, X_test, y_train, y_test = train_test_split(X, y, test_size=0.20, random_state=42)\n",
    "\n",
    "#28 x 28 image flattened in X has dimension 28 x 28 = 784\n",
    "input_shape = 784"
   ]
  },
  {
   "cell_type": "code",
   "execution_count": 36,
   "metadata": {
    "collapsed": false
   },
   "outputs": [],
   "source": [
    "#Deep Learning model \n",
    "def build_model(): \n",
    "    model = Sequential()\n",
    "    model.add(Dense(10,input_shape=(input_shape,),activation='softmax'))\n",
    "    model.compile(loss='categorical_crossentropy', optimizer=Adam(lr=0.01))\n",
    "    return model \n",
    "\n",
    "#Instantiate the model\n",
    "model = build_model()"
   ]
  },
  {
   "cell_type": "code",
   "execution_count": 37,
   "metadata": {
    "collapsed": false
   },
   "outputs": [
    {
     "name": "stdout",
     "output_type": "stream",
     "text": [
      "Epoch 1/10\n",
      "56000/56000 [==============================] - 1s - loss: 0.3587     \n",
      "Epoch 2/10\n",
      "56000/56000 [==============================] - 1s - loss: 0.2965     \n",
      "Epoch 3/10\n",
      "56000/56000 [==============================] - 1s - loss: 0.2862     \n",
      "Epoch 4/10\n",
      "56000/56000 [==============================] - 1s - loss: 0.2820     \n",
      "Epoch 5/10\n",
      "56000/56000 [==============================] - 1s - loss: 0.2742     \n",
      "Epoch 6/10\n",
      "56000/56000 [==============================] - 1s - loss: 0.2716     \n",
      "Epoch 7/10\n",
      "56000/56000 [==============================] - 1s - loss: 0.2727     \n",
      "Epoch 8/10\n",
      "56000/56000 [==============================] - 2s - loss: 0.2690     \n",
      "Epoch 9/10\n",
      "56000/56000 [==============================] - 1s - loss: 0.2665     \n",
      "Epoch 10/10\n",
      "56000/56000 [==============================] - 1s - loss: 0.2672     \n"
     ]
    },
    {
     "data": {
      "text/plain": [
       "<keras.callbacks.History at 0x11d8fe9e8>"
      ]
     },
     "execution_count": 37,
     "metadata": {},
     "output_type": "execute_result"
    }
   ],
   "source": [
    "#Train the model\n",
    "model.fit(X_train,y_train,epochs=10,batch_size=100)"
   ]
  },
  {
   "cell_type": "code",
   "execution_count": 38,
   "metadata": {
    "collapsed": false
   },
   "outputs": [
    {
     "name": "stdout",
     "output_type": "stream",
     "text": [
      "13920/14000 [============================>.] - ETA: 0s"
     ]
    },
    {
     "data": {
      "text/plain": [
       "0.31411054210151945"
      ]
     },
     "execution_count": 38,
     "metadata": {},
     "output_type": "execute_result"
    }
   ],
   "source": [
    "#Evaluate the model with the test data\n",
    "model.evaluate(X_test, y_test,verbose=1)"
   ]
  },
  {
   "cell_type": "code",
   "execution_count": 40,
   "metadata": {
    "collapsed": false
   },
   "outputs": [
    {
     "data": {
      "image/png": "[encoded data removed]",
      "text/plain": [
       "<matplotlib.figure.Figure at 0x11da66550>"
      ]
     },
     "metadata": {},
     "output_type": "display_data"
    },
    {
     "name": "stdout",
     "output_type": "stream",
     "text": [
      "8\n"
     ]
    }
   ],
   "source": [
    "#Choose the first sample from X_test, visualize it, and print the prediction\n",
    "sample = X_test[1]\n",
    "plt.imshow(sample.reshape(28,28))\n",
    "plt.show()\n",
    "\n",
    "pred = np.argmax(model.predict(X_test[1:2]))\n",
    "print(pred)"
   ]
  },
  {
   "cell_type": "code",
   "execution_count": 43,
   "metadata": {
    "collapsed": false
   },
   "outputs": [
    {
     "data": {
      "image/png": "[encoded data removed]",
      "text/plain": [
       "<matplotlib.figure.Figure at 0x11cba6320>"
      ]
     },
     "metadata": {},
     "output_type": "display_data"
    },
    {
     "name": "stdout",
     "output_type": "stream",
     "text": [
      "0\n"
     ]
    }
   ],
   "source": [
    "#Choose the first sample from X_test, visualize it, and print the prediction\n",
    "sample = X_test[14]\n",
    "plt.imshow(sample.reshape(28,28))\n",
    "plt.show()\n",
    "\n",
    "pred = np.argmax(model.predict(X_test[14:15]))\n",
    "print(pred)"
   ]
  },
  {
   "cell_type": "code",
   "execution_count": 44,
   "metadata": {
    "collapsed": false
   },
   "outputs": [
    {
     "data": {
      "image/png": "[encoded data removed]",
      "text/plain": [
       "<matplotlib.figure.Figure at 0x11da6c080>"
      ]
     },
     "metadata": {},
     "output_type": "display_data"
    },
    {
     "name": "stdout",
     "output_type": "stream",
     "text": [
      "6\n"
     ]
    }
   ],
   "source": [
    "#Choose the first sample from X_test, visualize it, and print the prediction\n",
    "sample = X_test[200]\n",
    "plt.imshow(sample.reshape(28,28))\n",
    "plt.show()\n",
    "\n",
    "pred = np.argmax(model.predict(X_test[200:201]))\n",
    "print(pred)"
   ]
  }
 ],
 "metadata": {
  "anaconda-cloud": {},
  "kernelspec": {
   "display_name": "Python [conda env:cse6240hw1]",
   "language": "python",
   "name": "conda-env-cse6240hw1-py"
  },
  "language_info": {
   "codemirror_mode": {
    "name": "ipython",
    "version": 3
   },
   "file_extension": ".py",
   "mimetype": "text/x-python",
   "name": "python",
   "nbconvert_exporter": "python",
   "pygments_lexer": "ipython3",
   "version": "3.5.2"
  }
 },
 "nbformat": 4,
 "nbformat_minor": 1
}
