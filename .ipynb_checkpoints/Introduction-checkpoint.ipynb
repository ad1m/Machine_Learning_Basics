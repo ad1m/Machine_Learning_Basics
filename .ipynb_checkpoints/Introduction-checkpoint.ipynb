{
 "cells": [
  {
   "cell_type": "markdown",
   "metadata": {},
   "source": [
    "<center><h1>Machine Learning</h1>\n",
    "<h4>By: Adam Lieberman</h4>\n",
    "</center>"
   ]
  },
  {
   "cell_type": "markdown",
   "metadata": {},
   "source": [
    "<h4>Introduction:</h4>\n",
    "<p>This guide serves as a practicial guide to machine learning. It is meant to be concise, relaying some mathematical and theoretical ideals, as well as practical in nature. It is meant to get one up and running with machine learning and and cover the process of building a wide variety of machine learning algorithms.</p>"
   ]
  },
  {
   "cell_type": "markdown",
   "metadata": {},
   "source": [
    "<h4>Definition:</h4>"
   ]
  },
  {
   "cell_type": "markdown",
   "metadata": {},
   "source": [
    "<p>There are many different definitions of Machine Learning:</p>\n",
    "<ul>\n",
    "<li>Arthur Samuel (1956) - <i>A field of computer science that gives computers the ability to learn without being explicitly programmed.</i>\n",
    "</li>\n",
    "<li>Tom Mitchell (1998) - <i>A computer program is said to learn from experience E with respect to some class of tasks T and performance measure P id its performance at tasks in T, as measured by P, improves with experience E.</i></li>\n",
    "</ul>\n",
    "\n",
    "<p>There is not one correct definition for Machine Learning, but overall the idea of machine learning is that there are algorithms which can tell you intersting facets of your data without you specifically writing code by setting specific rules for the desired information. Ian Goodfellow provides a concise description: <i>a machine learning algorithm is an algorithm that is able to learn form data.</i> </p>\n"
   ]
  },
  {
   "cell_type": "markdown",
   "metadata": {},
   "source": [
    "<h4>Machine Learning in the AI Spectrum:</h4>\n",
    "<p>Machine Learning is a subset of artificial intelligence where we define artificial intelligence as the design of an intelligent agent that percieves its environment and makes decisions to maximize chances of achieving its goal. Here, machine learning is a subset of AI. The graphic below depicts the relationship between artificial intellignence, machine learning, and deep learning:</p>\n",
    "<center><img src=\"images/AI_Map.png\" style=\"height:300px; width:300px\"></center>\n",
    "<p>Machine Learning is a subset of Artificial Intelligence so all machine learning problems are artificial intelligence problems; however, not all artificial intelligence problems are machine learning problems. Artificial intelligence is not only concerned with algorithms learning from experience to data, but also having machines exhibit intelligence through rules and logic. This could, for instance, be finding an optimal path on a graph. Some alternate subfields of AI are as follows:</p>\n",
    "<center><img src=\"images/ai_subfields_map.png\" style=\"height:300px; width:500px\"></center>"
   ]
  },
  {
   "cell_type": "markdown",
   "metadata": {},
   "source": [
    "<h4>Machine Learning Tasks:</h4>\n",
    "<p>There are many different types of tasks that machine learning can solve:</p>\n",
    "<ol>\n",
    "<li>Classification: Classification deals with classifying an input into one of $k$ categories. We might, for instance, want to take a picture and decide whether it is a bird, cat, or dog. When we have more than two classes we have a \"multiclass\" classification problem. When we are looking at predicting two classes we have a \"binary\" classification problem. Mathematically speaking, the learning algorithm produces a function $f: \\mathbb{R}^n \\rightarrow \\{1,2,...,k \\}$. This notation means that we have an $n$ dimensional vector with values as real numbers that gets mapped to a discrete value in the set $\\{1,2,...,k \\}$ where $\\{1,2,...,k\\}$ are the classes of the classification problem. This function takes in a vector $x$ and outputs a value $y$ such that $f(x)=y$.</li>\n",
    "</ol>"
   ]
  },
  {
   "cell_type": "markdown",
   "metadata": {},
   "source": [
    "<h4>Types of Machine Learning:</h4> "
   ]
  },
  {
   "cell_type": "markdown",
   "metadata": {},
   "source": [
    "<h4>Feature Vectors:</h4>"
   ]
  },
  {
   "cell_type": "markdown",
   "metadata": {},
   "source": [
    "<h4>Math:</h4>\n",
    "<p>Mathematics is important in understanding how the algorithms work and why they work. In this section we cover some important principles from linear algebra, statistics, and information theory.</p>"
   ]
  },
  {
   "cell_type": "markdown",
   "metadata": {},
   "source": [
    "<h4>Programming:</h4>\n",
    "<p>The following is a list of machine learning libraries for their respective programming languages:</p>\n",
    "<br>\n",
    "<b>Python</b>\n",
    "<ul>\n",
    "<li>sklearn</li>\n",
    "<li>pybrain</li>\n",
    "<li>keras (deep learning)</li>\n",
    "<li>tensorflow</li>\n",
    "</ul>\n",
    "<br>\n",
    "<b>R</b>\n",
    "<ul>\n",
    "<li></li>\n",
    "</ul>\n",
    "<br>\n",
    "<b>Java</b>\n",
    "<ul>\n",
    "<li></li>\n",
    "<li></li>\n",
    "<li></li>\n",
    "</ul>\n",
    "<b>JavaScript</b>\n",
    "<ul>\n",
    "<li></li>\n",
    "<li></li>\n",
    "<li></li>\n",
    "</ul>\n",
    "<b>C++</b>\n",
    "<ul>\n",
    "<li></li>\n",
    "<li></li>\n",
    "<li></li>\n",
    "</ul>\n",
    "<b>Julia</b>\n",
    "<ul>\n",
    "<li></li>\n",
    "<li></li>\n",
    "<li></li>\n",
    "</ul>\n",
    "<p>Python is a great high-level language for rapid development of machine learning algorithms. It is used by many machine learning engineers in a wide variety of top companies and has many modules to assist in the machine learning process. All code in this guide will be written in python.</p>"
   ]
  },
  {
   "cell_type": "code",
   "execution_count": null,
   "metadata": {
    "collapsed": true
   },
   "outputs": [],
   "source": []
  }
 ],
 "metadata": {
  "anaconda-cloud": {},
  "kernelspec": {
   "display_name": "Python [conda env:cse6240hw1]",
   "language": "python",
   "name": "conda-env-cse6240hw1-py"
  },
  "language_info": {
   "codemirror_mode": {
    "name": "ipython",
    "version": 3
   },
   "file_extension": ".py",
   "mimetype": "text/x-python",
   "name": "python",
   "nbconvert_exporter": "python",
   "pygments_lexer": "ipython3",
   "version": "3.5.2"
  }
 },
 "nbformat": 4,
 "nbformat_minor": 1
}
